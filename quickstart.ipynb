{
 "cells": [
  {
   "cell_type": "code",
   "execution_count": null,
   "id": "d4519cf7",
   "metadata": {},
   "outputs": [],
   "source": [
    "from numpy import pi, log, full\n",
    "import pypolychord\n",
    "from pypolychord.priors import UniformPrior\n",
    "try:\n",
    "    from mpi4py import MPI\n",
    "except ImportError:\n",
    "    pass"
   ]
  },
  {
   "cell_type": "markdown",
   "id": "ed20d6ed",
   "metadata": {},
   "source": [
    "Define a four-dimensional spherical gaussian likelihood,\n",
    " width sigma=0.1, centered on the 0 with one derived parameter.\n",
    " The derived parameter is the squared radius"
   ]
  },
  {
   "cell_type": "code",
   "execution_count": null,
   "id": "10c26982",
   "metadata": {},
   "outputs": [],
   "source": [
    "nDims = 4\n",
    "nDerived = 1\n",
    "sigma = 0.1\n",
    "\n",
    "def likelihood(theta):\n",
    "    \"\"\" Simple Gaussian Likelihood\"\"\"\n",
    "\n",
    "    nDims = len(theta)\n",
    "    r2 = sum(theta**2)\n",
    "    logL = -log(2*pi*sigma*sigma)*nDims/2.0\n",
    "    logL += -r2/2/sigma/sigma\n",
    "\n",
    "    return logL, [r2]"
   ]
  },
  {
   "cell_type": "markdown",
   "id": "4ecc1816",
   "metadata": {},
   "source": [
    "Define a box uniform prior from -1 to 1"
   ]
  },
  {
   "cell_type": "code",
   "execution_count": null,
   "id": "42dba8da",
   "metadata": {},
   "outputs": [],
   "source": [
    "def prior(hypercube):\n",
    "    \"\"\" Uniform prior from [-1,1]^D. \"\"\"\n",
    "    return UniformPrior(-1, 1)(hypercube)"
   ]
  },
  {
   "cell_type": "markdown",
   "id": "f6e291b4",
   "metadata": {},
   "source": [
    "Optional dumper function giving run-time read access to\n",
    " the live points, dead points, weights and evidences"
   ]
  },
  {
   "cell_type": "code",
   "execution_count": null,
   "id": "620f54c5",
   "metadata": {},
   "outputs": [],
   "source": [
    "def dumper(live, dead, logweights, logZ, logZerr):\n",
    "    print(\"Last dead point:\", dead[-1])"
   ]
  },
  {
   "cell_type": "markdown",
   "id": "28703af4",
   "metadata": {},
   "source": [
    "Optional cluster function allow user-defined clustering"
   ]
  },
  {
   "cell_type": "code",
   "execution_count": null,
   "id": "3919b486",
   "metadata": {},
   "outputs": [],
   "source": [
    "def cluster(points):\n",
    "    \"\"\"\n",
    "    <do some clustering algorithm to assign clusters>\n",
    "    - clusters should be an array of cluster labels for each point\n",
    "    - each cluster should have at least one point\n",
    "    - thus max(clusters)+1 should be the number of clusters\n",
    "    - i.e. clusters are 0-indexed\n",
    "    - work with the above numpy integer array\n",
    "    \"\"\"\n",
    "    npoints = points.shape[0]\n",
    "    return full(npoints, -1, dtype=int)"
   ]
  },
  {
   "cell_type": "markdown",
   "id": "82862bb6",
   "metadata": {},
   "source": [
    "Parameter names"
   ]
  },
  {
   "cell_type": "code",
   "execution_count": null,
   "id": "c6640bbf",
   "metadata": {},
   "outputs": [],
   "source": [
    "#! This is a list of tuples (label, latex)\n",
    "#! Derived parameters should be followed by a *\n",
    "\n",
    "paramnames = [(f'p{i}', f'\\\\theta_{i}') for i in range(nDims)]\n",
    "paramnames += [('r*', 'r')]"
   ]
  },
  {
   "cell_type": "markdown",
   "id": "46a23256",
   "metadata": {},
   "source": [
    "Run PolyChord"
   ]
  },
  {
   "cell_type": "code",
   "execution_count": null,
   "id": "3ae42909",
   "metadata": {},
   "outputs": [],
   "source": [
    "output = pypolychord.run(\n",
    "    likelihood,\n",
    "    nDims,\n",
    "    nDerived=nDerived,\n",
    "    prior=prior,\n",
    "    dumper=dumper,\n",
    "    file_root='gaussian',\n",
    "    nlive=200,\n",
    "    do_clustering=True,\n",
    "    read_resume=False,\n",
    "    paramnames=paramnames,\n",
    "    cluster=cluster,\n",
    ")"
   ]
  },
  {
   "cell_type": "markdown",
   "id": "93f9165e",
   "metadata": {},
   "source": [
    "Make an anesthetic plot"
   ]
  },
  {
   "cell_type": "code",
   "execution_count": null,
   "id": "2190a53c",
   "metadata": {},
   "outputs": [],
   "source": [
    "try:\n",
    "    from anesthetic import make_2d_axes\n",
    "    fig, ax = make_2d_axes(['p0', 'p1', 'p2', 'p3', 'r'])\n",
    "    output.plot_2d(ax)\n",
    "    fig.savefig('posterior.pdf')\n",
    "except ImportError:\n",
    "    print(\"Install anesthetic for plotting examples.\")"
   ]
  }
 ],
 "metadata": {},
 "nbformat": 4,
 "nbformat_minor": 5
}
